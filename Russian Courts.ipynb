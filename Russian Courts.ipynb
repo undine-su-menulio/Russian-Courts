{
 "cells": [
  {
   "cell_type": "markdown",
   "metadata": {},
   "source": [
    "# Добро пожаловать! \n",
    "\n",
    "[**ТЕКСТОВАЯ ИНСТРУКЦИЯ**](https://drive.google.com/file/d/1LV7U5F8JFAnFdOuY6GDsTQWyb8H5s-9m/view?usp=sharing), как пользоваться Jupyter Notebook или Google Colab, если вы впервые в жизни сталкиваетесь с необходимостью работать с подобными программами.\n",
    "\n",
    "[**ВИДЕО С ПОШАГОВОЙ ИНСТРУКЦИЕЙ**](https://youtu.be/IN2132LRLyw), как пользоваться этой программой."
   ]
  },
  {
   "cell_type": "markdown",
   "metadata": {},
   "source": [
    "# Начало. Стартовая ячейка для запуска ##\n",
    "\n",
    "В *Ячейке №0* (ниже) собраны важные функции и библиотеки языка Python, без которых программа работать не будет.\n",
    "\n",
    "**Запустите её перед использованием программы!**\n",
    "\n",
    "Номер ячейки указывается вверху ячейки бирюзовым/ зелёным цветом после хэштега (#)."
   ]
  },
  {
   "cell_type": "code",
   "execution_count": null,
   "metadata": {},
   "outputs": [],
   "source": [
    "# Ячейка №0\n",
    "\n",
    "import requests\n",
    "import pandas as pd\n",
    "from bs4 import BeautifulSoup\n",
    "from selenium import webdriver as wb\n",
    "import ipywidgets as widgets\n",
    "import datetime\n",
    "import winsound\n",
    "duration = 1000  # milliseconds\n",
    "freq = 440  # Hz\n",
    "print ('Библиотеки успешно загружены! :)')"
   ]
  },
  {
   "cell_type": "markdown",
   "metadata": {},
   "source": [
    "# Cайт суда. Шаг №1\n",
    "\n",
    "Ввод базовой информации, установка драйвера\n",
    "\n",
    "1. Запустите *Ячейку №1*. \n",
    "2. **Введите** в выпадающем поле **адрес сайта** cуда (URL, полное доменное имя с протоколом), но **БЕЗ закрывающей косой черты/** (слэша). Пример: \"http://kirovsky.svd.sudrf.ru\"\n",
    "3. **Введите название суда**, каким вы хотите его видеть в итоговой таблице. Например, для удобства стоит написать не \"Кировский районный суд города Екатеринбурга Свердловской области\", а \"Кировский Екатеринбург\".\n",
    "4. **Скачайте драйвер** (см. текст между *Ячейкой №1* и *Ячейкой №2*), если он ещё не установлен на вашем компьютере.\n",
    "5. **Введите путь к драйверу** в выпадающем поле, запустив *Ячейку №2*."
   ]
  },
  {
   "cell_type": "code",
   "execution_count": null,
   "metadata": {},
   "outputs": [],
   "source": [
    "# Ячейка №1\n",
    "\n",
    "court = input ('Введите сайт суда в формате \"http://court-name.sudrf.ru\": ')\n",
    "court_name = input ('Введите название суда: ')"
   ]
  },
  {
   "cell_type": "markdown",
   "metadata": {},
   "source": [
    "Сайты судов защищены от примитивного парсинга (то есть от простейшего автоматического сбора информации), поэтому коду нужно имитировать действия живого человека. Для этого нужен специальный драйвер, который будет открывать и закрывать окошки браузера, собирая с сайтов нужные данные.\n",
    "\n",
    "\n",
    "**Скачать драйвер** для браузера Chrome [**можно тут**](https://sites.google.com/a/chromium.org/chromedriver/downloads)."
   ]
  },
  {
   "cell_type": "code",
   "execution_count": null,
   "metadata": {},
   "outputs": [],
   "source": [
    "# Ячейка №2\n",
    "\n",
    "path_to_driver = input ('Введите путь к драйверу в формате \"C:/Users/User/Documents/chromedriver.exe\": ')"
   ]
  },
  {
   "cell_type": "markdown",
   "metadata": {},
   "source": [
    "# Даты за год. Шаг №2"
   ]
  },
  {
   "cell_type": "markdown",
   "metadata": {},
   "source": [
    "Выберите период, за который вы хотите получить данные. Для этого:\n",
    "\n",
    "1. Запустите *Ячейку №3*.\n",
    "2. Выберите в виджете дату начала и дату окончания желаемого периода.\n",
    "3. Запустите *Ячейку №4*.\n",
    "4. Проверьте в отображённых результатах, что выбраны именно те даты, которые вам нужны.\n",
    "5. Запустите *Ячейку №5*.\n",
    "6. Скопируйте какую-нибудь ссылку из результатов вручную и откройте её в новом окне браузе. Так вы проверите, корректно ли сработал код."
   ]
  },
  {
   "cell_type": "code",
   "execution_count": null,
   "metadata": {},
   "outputs": [],
   "source": [
    "# Ячейка №3\n",
    "\n",
    "start_date = widgets.DatePicker(\n",
    "    description='Начало: ',\n",
    "    disabled=False\n",
    ")\n",
    "\n",
    "end_date = widgets.DatePicker(\n",
    "    description='Конец: ',\n",
    "    disabled=False\n",
    ")\n",
    "\n",
    "display (start_date, end_date)"
   ]
  },
  {
   "cell_type": "code",
   "execution_count": null,
   "metadata": {},
   "outputs": [],
   "source": [
    "# Ячейка №4\n",
    "\n",
    "mydates = pd.date_range (start_date.value, end_date.value).tolist ()\n",
    "\n",
    "all_dates = []\n",
    "\n",
    "for i in mydates:\n",
    "    timestampStr = i.strftime(\"%d.%m.%Y\")\n",
    "    all_dates.append (timestampStr)\n",
    "\n",
    "all_dates"
   ]
  },
  {
   "cell_type": "code",
   "execution_count": null,
   "metadata": {},
   "outputs": [],
   "source": [
    "# Ячейка №5\n",
    "\n",
    "all_table_urls = []\n",
    "\n",
    "for every_date in all_dates:\n",
    "    new_table_url = court + '/modules.php?name=sud_delo&srv_num=1&H_date=' + every_date\n",
    "    all_table_urls.append (new_table_url)\n",
    "\n",
    "all_table_urls"
   ]
  },
  {
   "cell_type": "markdown",
   "metadata": {},
   "source": [
    "**Иногда** бывает так, что **к одному району** относятся **несколько судов**. У каждого суда — свой сервер. Проверьте по адресу сайтов, скорее всего их **URL отличается цифрой** в части **\"srv_num=\"**. Если это так, то определите номер сервера и впишите его при запуске ячейки ниже.\n",
    "\n",
    "**Пример**: Орджоникидзевский районный суд г. Перми — [**посмотрите вот тут**](https://ordgonik--perm.sudrf.ru/modules.php?name=sud_delo) — подразделяется на:\n",
    "* Уголовные и административные дела. (ул. Кавказкая 11) — srv_num=1\n",
    "* Гражданские и административные дела (ул. Валежная 13) — srv_num=2\n",
    "\n",
    "В адресе (URL) суда с ул. Валежной (гражданские дела) нужная часть выделена жирным: \n",
    "\n",
    "https:// ordgonik--perm.sudrf.ru /modules.php?name=sud_delo& **srv_num=2** &H_date=10.09.2020\n",
    "\n",
    "То есть если Вы хотите собрать данные гражданских и административных дел с улицы Валежной, то запустите ячейку ниже (*Ячейку №6*) и введите \"2\"."
   ]
  },
  {
   "cell_type": "code",
   "execution_count": null,
   "metadata": {},
   "outputs": [],
   "source": [
    "# Ячейка №6\n",
    "\n",
    "new_serv = input ()\n",
    "\n",
    "all_table_urls = []\n",
    "\n",
    "for every_date in all_dates:\n",
    "    new_table_url = court + f'/modules.php?name=sud_delo&srv_num={new_serv}&H_date=' + every_date\n",
    "    all_table_urls.append (new_table_url)\n",
    "\n",
    "all_table_urls"
   ]
  },
  {
   "cell_type": "markdown",
   "metadata": {},
   "source": [
    "# Алгоритм. Шаг №3\n",
    "\n",
    "1. Спарсить все таблицы за все нужные дни и ссылки с них\n",
    "2. Удалить дубликаты\n",
    "3. Пройтись по ссылкам и собрать даты"
   ]
  },
  {
   "cell_type": "markdown",
   "metadata": {},
   "source": [
    "## Первый этап"
   ]
  },
  {
   "cell_type": "markdown",
   "metadata": {},
   "source": [
    "Запустите *Ячейку №7*, чтобы пройтись по всем выбранным датам и собрать ссылки на дела, которые слушались за этот период.\n",
    "\n",
    "**Не пугайтесь всплывающих окон**: только так код может собрать нужную информацию.\n",
    "\n",
    "Когда код завершит работу, раздастся звуковой сигнал.\n",
    "\n",
    "Скопируйте какую-нибудь ссылку из результатов вручную и откройте её в новом окне браузе. Так вы проверите, корректно ли сработал код."
   ]
  },
  {
   "cell_type": "code",
   "execution_count": null,
   "metadata": {},
   "outputs": [],
   "source": [
    "# Ячейка №7\n",
    "\n",
    "all_extracted_links = []\n",
    "\n",
    "all_extracted_links_with_sep = []\n",
    "\n",
    "for every_day in all_table_urls:\n",
    "    \n",
    "    driver = wb.Chrome(path_to_driver)\n",
    "    driver.get(every_day)\n",
    "    soup_b = BeautifulSoup(driver.page_source, 'lxml')\n",
    "    driver.close()\n",
    "    \n",
    "    try:\n",
    "        soup_b_new = soup_b.find (id='tablcont').find ('tbody')#.find_all ('tr')\n",
    "        all_links = soup_b_new.find_all ('a')\n",
    "        delete_need = soup_b_new.find_all ('a', {'title':'Решение'})\n",
    "        for a in all_links: \n",
    "            if a in delete_need:\n",
    "                del (a)\n",
    "\n",
    "        extracted_links = []\n",
    "\n",
    "        for link in all_links:\n",
    "            key = link.get('href')\n",
    "            extracted_links.append (court + key)\n",
    "\n",
    "            all_extracted_links.append (court + key)\n",
    "\n",
    "        all_extracted_links_with_sep.append (extracted_links)\n",
    "        \n",
    "    except AttributeError:\n",
    "        pass\n",
    "    \n",
    "winsound.Beep(freq, duration)\n",
    "\n",
    "all_extracted_links"
   ]
  },
  {
   "cell_type": "markdown",
   "metadata": {},
   "source": [
    "## Второй этап"
   ]
  },
  {
   "cell_type": "markdown",
   "metadata": {},
   "source": [
    "Запустите *Ячейку №8*, чтобы удалить дубликаты ссылок и ссылки на тексты решений.\n",
    "\n",
    "Все собранные **ссылки сохранятся в** текстовый **файл** \"Ссылки *название суда*.txt\""
   ]
  },
  {
   "cell_type": "code",
   "execution_count": null,
   "metadata": {},
   "outputs": [],
   "source": [
    "# Ячейка №8\n",
    "\n",
    "print (f'Всего ссылок: {len (all_extracted_links)}')\n",
    "\n",
    "# Без дубликатов\n",
    "\n",
    "all_extracted_links_without_duplicates = list (set (all_extracted_links))\n",
    "print (f'Всего ссылок без дубликатов: {len (all_extracted_links_without_duplicates)}')\n",
    "\n",
    "copy_all_extracted_links_without_duplicates = all_extracted_links_without_duplicates.copy()\n",
    "\n",
    "new_clear_list = []\n",
    "for i in copy_all_extracted_links_without_duplicates:\n",
    "    if 'name_op=doc' not in i:\n",
    "        new_clear_list.append(i)\n",
    "        \n",
    "print (f'Всего ссылок без дубликатов и текстов решений: {len (new_clear_list)}')\n",
    "\n",
    "with open(f\"Ссылки {court_name}.txt\", \"w\") as text_file:\n",
    "    text_file.write(str(new_clear_list))"
   ]
  },
  {
   "cell_type": "markdown",
   "metadata": {},
   "source": [
    "## Третий этап"
   ]
  },
  {
   "cell_type": "markdown",
   "metadata": {},
   "source": [
    "**Сколько ссылок (дел)** вы хотите спарсить**? Укажите** это в выпадающем поле, запустив *Ячейку №9*.\n",
    "\n",
    "**Не пугайтесь всплывающих окон**: только так код может собрать нужную информацию.\n",
    "\n",
    "Когда код **завершит** работу, раздастся **звуковой сигнал**.\n",
    "\n",
    "**После** этого обязательно **сохраните файл** в *Ячейке №10* **ниже**."
   ]
  },
  {
   "cell_type": "code",
   "execution_count": null,
   "metadata": {},
   "outputs": [],
   "source": [
    "# Ячейка №9\n",
    "\n",
    "want_links_amount = int (input ('Сколько ссылок? ')) - 1\n",
    "\n",
    "final_df = pd.DataFrame()\n",
    "\n",
    "for every_link in new_clear_list [0 : want_links_amount]:\n",
    "    driver = wb.Chrome(path_to_driver)\n",
    "    driver.get(every_link)\n",
    "    soup_for_parsing = BeautifulSoup(driver.page_source, 'lxml')\n",
    "    driver.close()\n",
    "    \n",
    "    try:\n",
    "        soup_for_parsing = soup_for_parsing.find (id='cont2').find ('tbody')\n",
    "        table_content_for_parsing = []\n",
    "        for i in soup_for_parsing:\n",
    "            z = []\n",
    "            for k in i:\n",
    "                z.append(k.text)\n",
    "            table_content_for_parsing.append(z)\n",
    "        table_for_parsing = pd.DataFrame(table_content_for_parsing)\n",
    "        table_for_parsing.columns = table_for_parsing.iloc[1]\n",
    "        table_for_parsing = table_for_parsing.drop(0).drop(1)\n",
    "        table_for_parsing ['Ссылка'] = every_link\n",
    "        needed_columns_for_parsing = pd.DataFrame ([table_for_parsing ['Ссылка'], table_for_parsing['Дата'], \n",
    "                                                    table_for_parsing ['Дата размещения']]).T\n",
    "        final_df = final_df.append (needed_columns_for_parsing)\n",
    "    \n",
    "    except AttributeError:\n",
    "        pass\n",
    "\n",
    "winsound.Beep(freq, duration)    \n",
    "    \n",
    "final_df"
   ]
  },
  {
   "cell_type": "markdown",
   "metadata": {},
   "source": [
    "**Сохраните файл** на компьютер, запустив *Ячейку №10*.\n",
    "\n",
    "Название файла будет строиться по схеме: \"*Название суда*_*Количество собранных ссылок*_чистый.xlsx\"\n",
    "\n",
    "Например: Дзержинский_1000_чистый.xlsx"
   ]
  },
  {
   "cell_type": "code",
   "execution_count": null,
   "metadata": {},
   "outputs": [],
   "source": [
    "# Ячейка №10\n",
    "\n",
    "final_df.to_excel (f\"{court_name}_{want_links_amount + 1}_чистый.xlsx\")\n",
    "print ('Выгрузка прошла успешно! :)')"
   ]
  },
  {
   "cell_type": "markdown",
   "metadata": {},
   "source": [
    "## Четвёртый этап"
   ]
  },
  {
   "cell_type": "markdown",
   "metadata": {},
   "source": [
    "1. Запустите *Ячейку №11*, чтобы **посчитать разницу** (дельту) между Датой размещения и Датой события.\n",
    "2. Запустите *Ячейку №12*, чтобы **сохранить** полученную **таблицу в файл**. \n",
    "    1. Название файла будет строиться по схеме: \"*Название суда* _ *Количество собранных ссылок* _ даты и дельта.xlsx\" \n",
    "    2. Например: *Дзержинский*_*1000* _ даты и дельта.xlsx\n",
    "3. Запустите *Ячейку №13*, чтобы **подсчитать уникальные значения дельт**. \n",
    "    1. Допустим, сколько записей суды опубликовали в день события? Иными словами, сколько раз дельта между датой размещения и датой события равна 0?\n",
    "4. Запустите *Ячейку №14*, чтобы **сохранить** полученную **таблицу в файл**. \n",
    "    1. Название файла будет строиться по схеме: \"*Название суда*_*Количество собранных ссылок* _с дельтой.xlsx\" \n",
    "    2. Например: *Дзержинский*_*1000* _с дельтой.xlsx"
   ]
  },
  {
   "cell_type": "code",
   "execution_count": null,
   "metadata": {},
   "outputs": [],
   "source": [
    "# Ячейка №11\n",
    "\n",
    "final_df_2 = final_df.copy()\n",
    "final_df_2 [['Дата', 'Дата размещения']] = final_df_2[['Дата', 'Дата размещения']].apply(pd.pandas.to_datetime) \n",
    "final_df_2 ['Дельта'] = final_df_2['Дата размещения'] - final_df_2['Дата']\n",
    "final_df_2"
   ]
  },
  {
   "cell_type": "code",
   "execution_count": null,
   "metadata": {},
   "outputs": [],
   "source": [
    "# Ячейка №12\n",
    "\n",
    "final_df_2.to_excel (f\"{court_name}_{want_links_amount + 1}_ даты и дельта.xlsx\")\n",
    "print ('Выгрузка прошла успешно! :)')"
   ]
  },
  {
   "cell_type": "code",
   "execution_count": null,
   "metadata": {},
   "outputs": [],
   "source": [
    "# Ячейка №13\n",
    "\n",
    "gig = pd.DataFrame(final_df_2['Дельта'].value_counts()).reset_index()\n",
    "gig_str = gig['index'].astype(str)\n",
    "keyj = []\n",
    "for i in gig_str:\n",
    "    keyj.append (i[:-24])\n",
    "gig ['pure'] = keyj\n",
    "gig ['pure'] = gig ['pure'].astype(int)\n",
    "gig"
   ]
  },
  {
   "cell_type": "code",
   "execution_count": null,
   "metadata": {},
   "outputs": [],
   "source": [
    "# Ячейка №14\n",
    "\n",
    "gig.to_excel (f\"{court_name}_{want_links_amount + 1}_с дельтой.xlsx\")"
   ]
  },
  {
   "cell_type": "markdown",
   "metadata": {},
   "source": [
    "# Сравнение"
   ]
  },
  {
   "cell_type": "markdown",
   "metadata": {},
   "source": [
    "**Внимание!** Это **отдельный** этап! \n",
    "\n",
    "Вы можете приступить к нему, минуя шаги №1-3 и запустив лишь начальную *Ячейку №0*. Тем не менее, чтобы работать с этапом \"Сравнение\", у вас уже должны быть типовые файлы с данными судов, созданные в ячейках выше. \n",
    "\n",
    "Если у вас уже есть такие файлы, вы можете сразу переходить к этому этапу. Если нет, то сначала создайте их в ячейках выше.\n",
    "\n",
    "**Запустите большую *Ячейку №15*.**\n",
    "\n",
    "**Не пугайтесь** её размера: она нужна, чтобы создавать и агрегировать однотипную информацию о судах.\n",
    "\n",
    "Затем продвигайтесь ниже, к описанию *Ячейки №16*."
   ]
  },
  {
   "cell_type": "code",
   "execution_count": null,
   "metadata": {},
   "outputs": [],
   "source": [
    "# Ячейка №15\n",
    "\n",
    "class Courts:\n",
    "    \n",
    "    def __init__(self, name = '', pure = pd.DataFrame(), delta_count = pd.DataFrame(), \n",
    "                 zero = (), week = (), month = (), more = (), maximum = (), minimum = (), below = (), \n",
    "                 none_happened = (), none_published = (), none_all = (), all_cases = (),\n",
    "                 zero_percentage = (), week_percentage = (), month_percentage = (), more_percentage = (),\n",
    "                 below_percentage = (), none_happened_percentage = (), none_published_percentage = (), none_all_percentage = ()):\n",
    "        \n",
    "        ''' Этот класс создаёт объект \"суд\", то есть берёт из исходных файлов данные одного суда \n",
    "        и рассчитывает следующие показатели:\n",
    "\n",
    "        name — название суда (вводится пользователем вручную) \n",
    "\n",
    "        pure — файл с припиской \"_чистый.xlsx\", созданный в результате работы с ячейками выше. \n",
    "        Название файла вводится пользователем вручную.\n",
    "\n",
    "        delta_count — файл с припиской \"_с дельтой.xlsx\", созданный в результате работы с ячейками выше. \n",
    "        Название файла вводится пользователем вручную.\n",
    "\n",
    "        all_cases — совокупное количество записей.\n",
    "\n",
    "        zero — количество записей, где разница между Датой размещения и Датой события составляет 0 дней.\n",
    "        zero_percentage — процент zero от всех записей (all_cases).\n",
    "\n",
    "        week — количество записей, где разница между Датой размещения и Датой события составляет от 1 до 7 дней.\n",
    "        week_percentage — процент week от всех записей (all_cases).\n",
    "\n",
    "        month — количество записей, где разница между Датой размещения и Датой события составляет от 8 до 31 дня.\n",
    "        month_percentage — процент month от всех записей (all_cases).\n",
    "\n",
    "        more — количество записей, где разница между Датой размещения и Датой события составляет свыше 31 дня.\n",
    "        more_percentage — процент more от всех записей (all_cases).\n",
    "\n",
    "        maximum — максимальная задержка публикации, то есть максимальная разница между Датой размещения и Датой события. \n",
    "\n",
    "        minimum — максимальная отрицательная разница между Датой размещения и Датой события, то есть наиболее отдалённое, \n",
    "        запланированное событие.\n",
    "\n",
    "        below — количество записей, где разница между Датой размещения и Датой события отрицательна, \n",
    "        то есть событие запланировано на будущее.\n",
    "        below_percentage — процент below от всех записей (all_cases).\n",
    "\n",
    "        none_happened — количество записей, где не указана Дата события.\n",
    "        none_happened_percentage — процент none_happened от всех записей (all_cases).\n",
    "\n",
    "        none_published — количество записей, где не указана Дата размещения.\n",
    "        none_published_percentage — процент none_published от всех записей (all_cases).\n",
    "\n",
    "        none_all — количество отсутствующих дат (сумма none_happened и none_published).\n",
    "        none_all_percentage — процент none_all от всех записей (all_cases).'''\n",
    "        \n",
    "        name = input ('Введите название суда: ')\n",
    "        input_pure = input ('Введите название файла С ДАТАМИ в формате \"Мотовилихинский_1000_чистый.xlsx\": ')\n",
    "        input_delta_count = input ('Введите название файла С ДЕЛЬТОЙ в формате \"Мотовилихинский_1000_с дельтой.xlsx\": ')\n",
    "        pure = pd.read_excel (input_pure).drop ('Unnamed: 0', axis = 1)\n",
    "        delta_count = pd.read_excel (input_delta_count).drop ('Unnamed: 0', axis = 1)\n",
    "        self.name = name\n",
    "        self.pure = pure\n",
    "        self.delta_count = delta_count\n",
    "        self.zero = self.delta_count.iloc[0]['Дельта']\n",
    "        self.week = sum (self.delta_count ['Дельта']  [(self.delta_count ['pure'] < 8) & (self.delta_count ['pure'] > 0)])\n",
    "        self.month = sum (self.delta_count  ['Дельта']  [(self.delta_count ['pure'] < 32) & (self.delta_count ['pure'] > 7)])\n",
    "        self.more = sum (self.delta_count ['Дельта']  [(self.delta_count ['pure'] > 31)])\n",
    "        self.maximum = self.delta_count ['pure'].max()\n",
    "        self.minimum = self.delta_count ['pure'].min()\n",
    "        self.below = sum (self.delta_count ['Дельта']  [(self.delta_count ['pure'] < 0)])\n",
    "        self.none_happened = self.pure.isna().sum()[0]\n",
    "        self.none_published = self.pure.isna().sum()[1]\n",
    "        self.none_all = self.none_happened + self.none_published\n",
    "        self.all_cases = len (self.pure.index)\n",
    "        self.zero_percentage = int (self.zero * 100 / self.all_cases)\n",
    "        self.week_percentage = int (self.week * 100 / self.all_cases)\n",
    "        self.month_percentage = int (self.month * 100 / self.all_cases)\n",
    "        self.more_percentage = int (self.more * 100 / self.all_cases)\n",
    "        self.below_percentage = int (self.below * 100 / self.all_cases)\n",
    "        self.none_happened_percentage = int (self.none_happened * 100 / self.all_cases)\n",
    "        self.none_published_percentage = int (self.none_published * 100 / self.all_cases)\n",
    "        self.none_all_percentage = int (self.none_all * 100 / self.all_cases)\n",
    "    \n",
    "    def create_a_row (self):\n",
    "        \n",
    "        ''' Создаёт список из полученных в ходе инициализации переменных для добавления в итоговый датафрейм. '''\n",
    "        \n",
    "        return [self.name, self.zero, self.week, self.month, self.more, self.maximum, self.minimum, \n",
    "                self.below, self.none_happened, self.none_published, self.none_all, self.all_cases,\n",
    "               self.zero_percentage, self.week_percentage, self.month_percentage, self.more_percentage,\n",
    "               self.below_percentage, self.none_happened_percentage, self.none_published_percentage, self.none_all_percentage]"
   ]
  },
  {
   "cell_type": "markdown",
   "metadata": {},
   "source": [
    "**Запустите *Ячейку №16*,** чтобы создать таблицу и занести в неё первый ряд с данными.\n",
    "\n",
    "В **выпадающих полях** впишите:\n",
    "1. Название суда\n",
    "2. Название файла с окончанием \"... _ чистый.xlsx\".\n",
    "3. Название файла с окончанием \"... _ с дельтой.xlsx\".\n",
    "\n",
    "Следуйте подсказкам рядом с выпадающими полями.\n",
    "\n",
    "Запустите *Ячейку* ***№16*** **только один раз** для первого суда и, соответственно, первого ряда в таблице. **Чтобы занести новую информацию** о других судах и тем самым добавить новые ряды в таблицу, **используйте *Ячейку №17***."
   ]
  },
  {
   "cell_type": "code",
   "execution_count": null,
   "metadata": {},
   "outputs": [],
   "source": [
    "# Ячейка №16\n",
    "\n",
    "list_with_column_names = ['Суд', '0 дней', '1-7 дней', '8+дн. - месяц', 'Больше месяца', 'Максимум +', 'Минимум -', \n",
    "                          '0> Будущее', 'Нет даты события', 'Нет даты размещения', 'Нет даты (сумма)', 'Всего записей', \n",
    "                          '0 дней %', '1-7 дней %', '8+дн. - месяц %', 'Больше месяца %', '0> Будущее %', \n",
    "                          'Нет даты события %', 'Нет даты размещения %', 'Нет даты (сумма) %']\n",
    "\n",
    "add_a_court = Courts().create_a_row ()\n",
    "\n",
    "final_comparative_df = pd.DataFrame ([list_with_column_names, add_a_court])\n",
    "final_comparative_df.columns = final_comparative_df.iloc[0]\n",
    "final_comparative_df = final_comparative_df.drop(0).reset_index().drop('index', axis = 1)\n",
    "final_comparative_df"
   ]
  },
  {
   "cell_type": "markdown",
   "metadata": {},
   "source": [
    "**Запустите** *Ячейку* ***№17***, чтобы **добавить новую информацию** о других судах **и** тем самым добавить **новые ряды в таблицу**.\n",
    "\n",
    "Всё точно так же, как при запуске *Ячейки №16*. Следуйте подсказкам рядом с выпадающими полями.\n",
    "\n",
    "Когда закончите работу с программой, обязательно сохраните получившуюся таблицу, запустив *Ячейку №18*."
   ]
  },
  {
   "cell_type": "code",
   "execution_count": null,
   "metadata": {},
   "outputs": [],
   "source": [
    "# Ячейка №17\n",
    "\n",
    "add_a_court = Courts().create_a_row ()\n",
    "add_a_row = pd.Series(add_a_court, index = final_comparative_df.columns)\n",
    "final_comparative_df = final_comparative_df.append (add_a_row, ignore_index=True)\n",
    "final_comparative_df"
   ]
  },
  {
   "cell_type": "markdown",
   "metadata": {},
   "source": [
    "**Запустите** *Ячейку №18*, чтобы **сохранить файл** под названием \"Сравнение судов.xlsx\"."
   ]
  },
  {
   "cell_type": "code",
   "execution_count": null,
   "metadata": {},
   "outputs": [],
   "source": [
    "# Ячейка №18\n",
    "\n",
    "final_comparative_df.to_excel (f\"Сравнение судов.xlsx\")\n",
    "print ('Выгрузка прошла успешно! :)')"
   ]
  },
  {
   "cell_type": "markdown",
   "metadata": {},
   "source": [
    "## Общая информация о программе ##\n",
    "\n",
    "Автор программы: Мария Казакова, Москва, 2020 год\n",
    "\n",
    "Контакты: marikasakowa@gmail.com"
   ]
  }
 ],
 "metadata": {
  "kernelspec": {
   "display_name": "Python 3",
   "language": "python",
   "name": "python3"
  },
  "language_info": {
   "codemirror_mode": {
    "name": "ipython",
    "version": 3
   },
   "file_extension": ".py",
   "mimetype": "text/x-python",
   "name": "python",
   "nbconvert_exporter": "python",
   "pygments_lexer": "ipython3",
   "version": "3.7.4"
  }
 },
 "nbformat": 4,
 "nbformat_minor": 2
}
